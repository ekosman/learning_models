{
  "nbformat": 4,
  "nbformat_minor": 0,
  "metadata": {
    "colab": {
      "name": "perceptron_demontration.ipynb",
      "version": "0.3.2",
      "provenance": []
    },
    "language_info": {
      "codemirror_mode": {
        "name": "ipython",
        "version": 3
      },
      "file_extension": ".py",
      "mimetype": "text/x-python",
      "name": "python",
      "nbconvert_exporter": "python",
      "pygments_lexer": "ipython3",
      "version": "3.7.0"
    },
    "kernelspec": {
      "display_name": "Python 3",
      "language": "python",
      "name": "python3"
    }
  },
  "cells": [
    {
      "cell_type": "code",
      "metadata": {
        "id": "PmQbVaPhhpti",
        "colab_type": "code",
        "colab": {}
      },
      "source": [
        "from os import path, mkdir\n",
        "import matplotlib.pyplot as plt\n",
        "import numpy as np\n",
        "from sklearn.datasets import make_classification\n",
        "\n",
        "SEED = 42"
      ],
      "execution_count": 0,
      "outputs": []
    },
    {
      "cell_type": "code",
      "metadata": {
        "id": "dRWBnXRthpts",
        "colab_type": "code",
        "colab": {}
      },
      "source": [
        "def make_perceptron_friendly_classification():\n",
        "    x, y = make_classification(\n",
        "        n_samples=100,\n",
        "        n_features=2,\n",
        "        n_informative=2,\n",
        "        n_redundant=0,\n",
        "        n_repeated=0,\n",
        "        n_clusters_per_class=1,\n",
        "        flip_y=0.0,\n",
        "        class_sep=1.0,\n",
        "        scale=1,\n",
        "        random_state=SEED\n",
        "    )\n",
        "\n",
        "    y = 2.0 * y - 1.0\n",
        "\n",
        "    return x, y"
      ],
      "execution_count": 0,
      "outputs": []
    },
    {
      "cell_type": "code",
      "metadata": {
        "id": "OKfHLqsXhptx",
        "colab_type": "code",
        "colab": {}
      },
      "source": [
        "def visualize_data(name, x, y, w=None):\n",
        "    one_indices = np.where(y == 1)[0]\n",
        "    minus_one_indices = np.where(y == -1)[0]\n",
        "\n",
        "    one_dots = np.array(x)[one_indices]\n",
        "    minus_one_dots = np.array(x)[minus_one_indices]\n",
        "\n",
        "    fig, ax = plt.subplots()\n",
        "\n",
        "    top = max([e[1] for e in x]) + 1\n",
        "    right = max([e[0] for e in x]) + 1\n",
        "    bottom = min([e[1] for e in x]) - 1\n",
        "    left = min([e[0] for e in x]) - 1\n",
        "    \n",
        "    xx = np.arange(left, right, 0.01)\n",
        "    \n",
        "    blue_fill, orange_fill, line = None, None, None\n",
        "    if w is not None:\n",
        "        c, a, b = w\n",
        "\n",
        "        def f(z):\n",
        "            return - (a * z + c) / b\n",
        "\n",
        "        yy = np.ravel([f(z) for z in xx])\n",
        "        \n",
        "\n",
        "        ax.fill_between(xx, y1=yy, y2=top, where=yy < top, color='blue', alpha=0.2)\n",
        "        ax.fill_between(xx, y1=yy, y2=bottom, where=yy > bottom, color='orange', alpha=0.2)\n",
        "        ax.plot(xx, yy, 'g')\n",
        "    \n",
        "    ax.scatter(one_dots[:, 0], one_dots[:, 1])\n",
        "    ax.scatter(minus_one_dots[:, 0], minus_one_dots[:, 1])\n",
        "    plt.title(name + ' dataset')\n",
        "    plt.xlim((left, right))\n",
        "    plt.ylim((bottom, top))\n",
        "    plt.show()"
      ],
      "execution_count": 0,
      "outputs": []
    },
    {
      "cell_type": "code",
      "metadata": {
        "id": "Au07Suq5hpt2",
        "colab_type": "code",
        "colab": {}
      },
      "source": [
        "def convert_weights(w):\n",
        "    w = np.squeeze(w)\n",
        "    b = w[-1]\n",
        "    w = w[:-1]\n",
        "    return np.hstack([b, w])"
      ],
      "execution_count": 0,
      "outputs": []
    },
    {
      "cell_type": "markdown",
      "metadata": {
        "id": "GLIFEFnfhpt9",
        "colab_type": "text"
      },
      "source": [
        "# Visualizing the data\n",
        "By looking at the data points we can clearly notice that it is linearly seperable"
      ]
    },
    {
      "cell_type": "code",
      "metadata": {
        "id": "iFIRKYBQhpt-",
        "colab_type": "code",
        "colab": {
          "base_uri": "https://localhost:8080/",
          "height": 281
        },
        "outputId": "ae4dec5a-e342-4a69-81aa-9f2bd5d845ae"
      },
      "source": [
        "x, y = make_perceptron_friendly_classification()\n",
        "visualize_data('preceptron friendly', x, y)"
      ],
      "execution_count": 5,
      "outputs": [
        {
          "output_type": "display_data",
          "data": {
            "image/png": "[encoded data removed]",
            "text/plain": [
              "<Figure size 432x288 with 1 Axes>"
            ]
          },
          "metadata": {
            "tags": []
          }
        }
      ]
    },
    {
      "cell_type": "markdown",
      "metadata": {
        "id": "hCu6lNfDhpuF",
        "colab_type": "text"
      },
      "source": [
        "# The Perceptron\n",
        "We will implement the Perceptron Algorithm for supervised learning of binary classifiers.\n",
        "\n",
        "![](https://raw.githubusercontent.com/ekosman/learning_models/master/additional_imgs/perceptron_algo.png)"
      ]
    },
    {
      "cell_type": "code",
      "metadata": {
        "id": "gTn-RneXhpuG",
        "colab_type": "code",
        "colab": {}
      },
      "source": [
        "def concat_ones(x):\n",
        "    n = np.ones((x.shape[0], 1))\n",
        "    return np.hstack((x, n))\n",
        "\n",
        "def predict(w, x):\n",
        "    return np.sign(w.T @ x)\n",
        "\n",
        "x = concat_ones(x)"
      ],
      "execution_count": 0,
      "outputs": []
    },
    {
      "cell_type": "code",
      "metadata": {
        "id": "PRqiJQS3hpuL",
        "colab_type": "code",
        "colab": {}
      },
      "source": [
        "def fit(lr, T):\n",
        "    input_dim = 2\n",
        "    classes = np.unique(y)\n",
        "    w = np.random.uniform(-1, 1, (input_dim + 1, 1)) / np.square(input_dim) # adding 1 for the bias term\n",
        "    weights_ = [w]\n",
        "\n",
        "    for epoch in range(T):\n",
        "        training_order = np.random.permutation(range(x.shape[0]))\n",
        "        changed = False\n",
        "        for i_sample in training_order:\n",
        "            x_, y_true = x[i_sample].reshape(-1, 1), y[i_sample]\n",
        "            y_pred = predict(w, x_)\n",
        "\n",
        "            if y_pred != y_true:\n",
        "                changed = True\n",
        "                w += lr * y_true * x_\n",
        "\n",
        "        weights_.append(w.copy())\n",
        "\n",
        "        if not changed:\n",
        "            break\n",
        "            \n",
        "    return weights_\n",
        "\n",
        "        "
      ],
      "execution_count": 0,
      "outputs": []
    },
    {
      "cell_type": "code",
      "metadata": {
        "id": "gcR7h8xlhpuP",
        "colab_type": "code",
        "colab": {}
      },
      "source": [
        "weights = fit(lr=1e-3, T=200)"
      ],
      "execution_count": 0,
      "outputs": []
    },
    {
      "cell_type": "markdown",
      "metadata": {
        "id": "j2TV3funhpuU",
        "colab_type": "text"
      },
      "source": [
        "![ChessUrl](https://raw.githubusercontent.com/ekosman/learning_models/master/additional_imgs/convergence.gif)"
      ]
    },
    {
      "cell_type": "code",
      "metadata": {
        "id": "n7EXUJL8hpuV",
        "colab_type": "code",
        "colab": {}
      },
      "source": [
        ""
      ],
      "execution_count": 0,
      "outputs": []
    }
  ]
}